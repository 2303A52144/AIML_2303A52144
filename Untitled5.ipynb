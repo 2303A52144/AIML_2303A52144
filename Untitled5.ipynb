{
  "nbformat": 4,
  "nbformat_minor": 0,
  "metadata": {
    "colab": {
      "provenance": [],
      "authorship_tag": "ABX9TyMZ7rhtDby+qVRlhHMPv2ye",
      "include_colab_link": true
    },
    "kernelspec": {
      "name": "python3",
      "display_name": "Python 3"
    },
    "language_info": {
      "name": "python"
    }
  },
  "cells": [
    {
      "cell_type": "markdown",
      "metadata": {
        "id": "view-in-github",
        "colab_type": "text"
      },
      "source": [
        "<a href=\"https://colab.research.google.com/github/2303A52144/AIML_2303A52144/blob/main/Untitled5.ipynb\" target=\"_parent\"><img src=\"https://colab.research.google.com/assets/colab-badge.svg\" alt=\"Open In Colab\"/></a>"
      ]
    },
    {
      "cell_type": "markdown",
      "source": [
        "Question 1:\n",
        "\n",
        "Given the following dataset: X={1.3,1.5,2.6,2.6,3.2,3.9,4.2,3.7,3.10,3.0,11,6.7,1.9}. Compute the density of the data using a histogram with 5 bins."
      ],
      "metadata": {
        "id": "DZU6w4NJinPC"
      }
    },
    {
      "cell_type": "code",
      "source": [
        "import numpy as np\n",
        "import matplotlib.pyplot as plt\n",
        "\n",
        "# Define the dataset\n",
        "X = np.array([1.3,1.5,2.6,2.6,3.2,3.9,4.2,3.7,3.10,3.0,11,6.7,1.9])\n",
        "\n",
        "# Compute the histogram with density=True to normalize the histogram\n",
        "counts, bin_edges = np.histogram(X, bins=5, density=True)\n",
        "\n",
        "# Plot the histogram\n",
        "plt.hist(X, bins=5, density=True, alpha=0.6, color='b', edgecolor='black')\n",
        "\n",
        "# Add labels and title\n",
        "plt.xlabel('Value')\n",
        "plt.ylabel('Density')\n",
        "plt.title('Histogram with Density for X')\n",
        "plt.show()\n",
        "\n",
        "# Display bin edges and densities\n",
        "print(\"Bin edges:\", bin_edges)\n",
        "print(\"Density values (heights of the bars):\", counts)"
      ],
      "metadata": {
        "colab": {
          "base_uri": "https://localhost:8080/",
          "height": 507
        },
        "id": "8YfCmff2ipRi",
        "outputId": "94a0b34b-9e6b-4b76-b85e-1fb79e18071a"
      },
      "execution_count": null,
      "outputs": [
        {
          "output_type": "display_data",
          "data": {
            "text/plain": [
              "<Figure size 640x480 with 1 Axes>"
            ],
            "image/png": "[encoded data removed]"
          },
          "metadata": {}
        },
        {
          "output_type": "stream",
          "name": "stdout",
          "text": [
            "Bin edges: [ 1.3   3.24  5.18  7.12  9.06 11.  ]\n",
            "Density values (heights of the bars): [0.31720856 0.11895321 0.03965107 0.         0.03965107]\n"
          ]
        }
      ]
    },
    {
      "cell_type": "markdown",
      "source": [
        "Question 2:"
      ],
      "metadata": {
        "id": "22CvF86AizWf"
      }
    },
    {
      "cell_type": "code",
      "source": [
        "import numpy as np\n",
        "import scipy.stats as st\n",
        "X = ([12,13,56,23,41,28,51])\n",
        "Y = ([51,63,37,88,33,72,81])\n",
        "mean_x= np.mean(X)\n",
        "median_x = np.median(X)\n",
        "mode_x = st.mode(X)\n",
        "variance_x = np.var(X)\n",
        "std_x = np.std(X)\n",
        "range_x = np.max(X)-np.min(X)\n",
        "iqr_x = st.iqr(X)\n",
        "skewness_x = st.skew(X)\n",
        "kurtosis_x = st.kurtosis(X)\n",
        "\n",
        "print(\"Mean of X: \",{mean_x})\n",
        "print(\"Median of X: \",{median_x})\n",
        "print(\"Mode of X: \",{mode_x})\n",
        "print(\"Variance of X: \",{variance_x})\n",
        "print(\"Standard deviation of x: \",{std_x})\n",
        "print(\"Range of X: \",{range_x})\n",
        "print(\"Interquartile Range of X: \",{iqr_x})\n",
        "print(\"Skewness of X: \",{skewness_x})\n",
        "print(\"Kurtosis of X: \",{kurtosis_x})"
      ],
      "metadata": {
        "colab": {
          "base_uri": "https://localhost:8080/"
        },
        "id": "wlghE4GZi1iy",
        "outputId": "db79c381-8db8-46bd-f08e-c12c0720b648"
      },
      "execution_count": null,
      "outputs": [
        {
          "output_type": "stream",
          "name": "stdout",
          "text": [
            "Mean of X:  {32.0}\n",
            "Median of X:  {28.0}\n",
            "Mode of X:  {ModeResult(mode=12, count=1)}\n",
            "Variance of X:  {268.0}\n",
            "Standard deviation of x:  {16.3707055437449}\n",
            "Range of X:  {44}\n",
            "Interquartile Range of X:  {28.0}\n",
            "Skewness of X:  {0.18755223867066048}\n",
            "Kurtosis of X:  {-1.47684021258314}\n"
          ]
        }
      ]
    },
    {
      "cell_type": "markdown",
      "source": [
        "Question 3:"
      ],
      "metadata": {
        "id": "G9QMEH2Ei5Lw"
      }
    },
    {
      "cell_type": "code",
      "source": [
        "mean_y= np.mean(Y)\n",
        "median_y = np.median(Y)\n",
        "mode_y = st.mode(Y)\n",
        "variance_y = np.var(Y)\n",
        "std_y = np.std(Y)\n",
        "range_y = np.max(Y)-np.min(Y)\n",
        "iqr_y = st.iqr(Y)\n",
        "skewness_y = st.skew(Y)\n",
        "kurtosis_y = st.kurtosis(Y)\n",
        "\n",
        "print(\"Mean of Y: \",{mean_y})\n",
        "print(\"Median of Y: \",{median_y})\n",
        "print(\"Mode of Y: \",{mode_y})\n",
        "print(\"Variance of Y: \",{variance_y})\n",
        "print(\"Standard deviation of Y: \",{std_y})\n",
        "print(\"Range of Y: \",{range_y})\n",
        "print(\"Interquartile Range of Y: \",{iqr_y})\n",
        "print(\"Skewness of Y: \",{skewness_y})\n",
        "print(\"Kurtosis of Y: \",{kurtosis_y})"
      ],
      "metadata": {
        "colab": {
          "base_uri": "https://localhost:8080/"
        },
        "id": "9SX-LuF3i7Ja",
        "outputId": "f7d50797-0de4-446d-94a8-91a008f1d523"
      },
      "execution_count": null,
      "outputs": [
        {
          "output_type": "stream",
          "name": "stdout",
          "text": [
            "Mean of Y:  {60.714285714285715}\n",
            "Median of Y:  {63.0}\n",
            "Mode of Y:  {ModeResult(mode=33, count=1)}\n",
            "Variance of Y:  {387.6326530612245}\n",
            "Standard deviation of Y:  {19.68838878784205}\n",
            "Range of Y:  {55}\n",
            "Interquartile Range of Y:  {32.5}\n",
            "Skewness of Y:  {-0.10160487226954186}\n",
            "Kurtosis of Y:  {-1.4265295827972655}\n"
          ]
        }
      ]
    }
  ]
}